{
  "nbformat": 4,
  "nbformat_minor": 0,
  "metadata": {
    "colab": {
      "provenance": []
    },
    "kernelspec": {
      "name": "python3",
      "display_name": "Python 3"
    },
    "language_info": {
      "name": "python"
    }
  },
  "cells": [
    {
      "cell_type": "markdown",
      "metadata": {
        "id": "tUUVrx70Z5KL"
      },
      "source": [
        "# Ungraded lab: Permutation Feature Importance\n",
        "------------------------\n",
        " \n",
        "Bienvenido, durante este laboratorio no calificado va a realizar Permutation Feature Importance en [wine dataset](https://scikit-learn.org/stable/modules/generated/sklearn.datasets.load_wine.html#sklearn.datasets.load_wine) usando scikit-learn. En particular:\n",
        "\n",
        "\n",
        "1. 1. Entrenar un clasificador Random Forest en los datos.\n",
        "2. 2. Calcular la puntuación de importancia de las características permutando cada característica.\n",
        "3. 3. Vuelva a entrenar el modelo sólo con las características más importantes.\n",
        "4. Compruebe otros clasificadores para comparar.\n",
        "\n",
        "Empecemos."
      ]
    },
    {
      "cell_type": "markdown",
      "metadata": {
        "id": "KxXreDg0tGOF"
      },
      "source": [
        "## Inspect and pre-process the data\n",
        "\n",
        "Empiece por actualizar scikit-learn a la última versión:"
      ]
    },
    {
      "cell_type": "code",
      "metadata": {
        "id": "UsGnA3r9DQkw",
        "colab": {
          "base_uri": "https://localhost:8080/"
        },
        "outputId": "98de1260-ace2-4ac0-96ae-abcaa5ccd060"
      },
      "source": [
        "!pip install -U scikit-learn"
      ],
      "execution_count": 1,
      "outputs": [
        {
          "output_type": "stream",
          "name": "stdout",
          "text": [
            "Looking in indexes: https://pypi.org/simple, https://us-python.pkg.dev/colab-wheels/public/simple/\n",
            "Requirement already satisfied: scikit-learn in /usr/local/lib/python3.8/dist-packages (1.0.2)\n",
            "Collecting scikit-learn\n",
            "  Downloading scikit_learn-1.2.1-cp38-cp38-manylinux_2_17_x86_64.manylinux2014_x86_64.whl (9.8 MB)\n",
            "\u001b[2K     \u001b[90m━━━━━━━━━━━━━━━━━━━━━━━━━━━━━━━━━━━━━━━━\u001b[0m \u001b[32m9.8/9.8 MB\u001b[0m \u001b[31m36.9 MB/s\u001b[0m eta \u001b[36m0:00:00\u001b[0m\n",
            "\u001b[?25hRequirement already satisfied: threadpoolctl>=2.0.0 in /usr/local/lib/python3.8/dist-packages (from scikit-learn) (3.1.0)\n",
            "Requirement already satisfied: numpy>=1.17.3 in /usr/local/lib/python3.8/dist-packages (from scikit-learn) (1.22.4)\n",
            "Requirement already satisfied: joblib>=1.1.1 in /usr/local/lib/python3.8/dist-packages (from scikit-learn) (1.2.0)\n",
            "Requirement already satisfied: scipy>=1.3.2 in /usr/local/lib/python3.8/dist-packages (from scikit-learn) (1.7.3)\n",
            "Installing collected packages: scikit-learn\n",
            "  Attempting uninstall: scikit-learn\n",
            "    Found existing installation: scikit-learn 1.0.2\n",
            "    Uninstalling scikit-learn-1.0.2:\n",
            "      Successfully uninstalled scikit-learn-1.0.2\n",
            "Successfully installed scikit-learn-1.2.1\n"
          ]
        }
      ]
    },
    {
      "cell_type": "markdown",
      "metadata": {
        "id": "wx9r-xd5tWZO"
      },
      "source": [
        "Now import the required dependencies and load the dataset:"
      ]
    },
    {
      "cell_type": "code",
      "metadata": {
        "id": "DCRACaLFC-1N",
        "colab": {
          "base_uri": "https://localhost:8080/",
          "height": 270
        },
        "outputId": "112191ba-5f43-4371-8a6c-843a0e947351"
      },
      "source": [
        "import numpy as np\n",
        "from sklearn.datasets import load_wine\n",
        "\n",
        "# as_frame param requires scikit-learn >= 0.23\n",
        "data = load_wine(as_frame=True)\n",
        "\n",
        "# Print first rows of the data\n",
        "data.frame.head()"
      ],
      "execution_count": 1,
      "outputs": [
        {
          "output_type": "execute_result",
          "data": {
            "text/plain": [
              "   alcohol  malic_acid   ash  alcalinity_of_ash  magnesium  total_phenols  \\\n",
              "0    14.23        1.71  2.43               15.6      127.0           2.80   \n",
              "1    13.20        1.78  2.14               11.2      100.0           2.65   \n",
              "2    13.16        2.36  2.67               18.6      101.0           2.80   \n",
              "3    14.37        1.95  2.50               16.8      113.0           3.85   \n",
              "4    13.24        2.59  2.87               21.0      118.0           2.80   \n",
              "\n",
              "   flavanoids  nonflavanoid_phenols  proanthocyanins  color_intensity   hue  \\\n",
              "0        3.06                  0.28             2.29             5.64  1.04   \n",
              "1        2.76                  0.26             1.28             4.38  1.05   \n",
              "2        3.24                  0.30             2.81             5.68  1.03   \n",
              "3        3.49                  0.24             2.18             7.80  0.86   \n",
              "4        2.69                  0.39             1.82             4.32  1.04   \n",
              "\n",
              "   od280/od315_of_diluted_wines  proline  target  \n",
              "0                          3.92   1065.0       0  \n",
              "1                          3.40   1050.0       0  \n",
              "2                          3.17   1185.0       0  \n",
              "3                          3.45   1480.0       0  \n",
              "4                          2.93    735.0       0  "
            ],
            "text/html": [
              "\n",
              "  <div id=\"df-7514ef4f-fa85-4d44-b0d6-5ac0b7f693f4\">\n",
              "    <div class=\"colab-df-container\">\n",
              "      <div>\n",
              "<style scoped>\n",
              "    .dataframe tbody tr th:only-of-type {\n",
              "        vertical-align: middle;\n",
              "    }\n",
              "\n",
              "    .dataframe tbody tr th {\n",
              "        vertical-align: top;\n",
              "    }\n",
              "\n",
              "    .dataframe thead th {\n",
              "        text-align: right;\n",
              "    }\n",
              "</style>\n",
              "<table border=\"1\" class=\"dataframe\">\n",
              "  <thead>\n",
              "    <tr style=\"text-align: right;\">\n",
              "      <th></th>\n",
              "      <th>alcohol</th>\n",
              "      <th>malic_acid</th>\n",
              "      <th>ash</th>\n",
              "      <th>alcalinity_of_ash</th>\n",
              "      <th>magnesium</th>\n",
              "      <th>total_phenols</th>\n",
              "      <th>flavanoids</th>\n",
              "      <th>nonflavanoid_phenols</th>\n",
              "      <th>proanthocyanins</th>\n",
              "      <th>color_intensity</th>\n",
              "      <th>hue</th>\n",
              "      <th>od280/od315_of_diluted_wines</th>\n",
              "      <th>proline</th>\n",
              "      <th>target</th>\n",
              "    </tr>\n",
              "  </thead>\n",
              "  <tbody>\n",
              "    <tr>\n",
              "      <th>0</th>\n",
              "      <td>14.23</td>\n",
              "      <td>1.71</td>\n",
              "      <td>2.43</td>\n",
              "      <td>15.6</td>\n",
              "      <td>127.0</td>\n",
              "      <td>2.80</td>\n",
              "      <td>3.06</td>\n",
              "      <td>0.28</td>\n",
              "      <td>2.29</td>\n",
              "      <td>5.64</td>\n",
              "      <td>1.04</td>\n",
              "      <td>3.92</td>\n",
              "      <td>1065.0</td>\n",
              "      <td>0</td>\n",
              "    </tr>\n",
              "    <tr>\n",
              "      <th>1</th>\n",
              "      <td>13.20</td>\n",
              "      <td>1.78</td>\n",
              "      <td>2.14</td>\n",
              "      <td>11.2</td>\n",
              "      <td>100.0</td>\n",
              "      <td>2.65</td>\n",
              "      <td>2.76</td>\n",
              "      <td>0.26</td>\n",
              "      <td>1.28</td>\n",
              "      <td>4.38</td>\n",
              "      <td>1.05</td>\n",
              "      <td>3.40</td>\n",
              "      <td>1050.0</td>\n",
              "      <td>0</td>\n",
              "    </tr>\n",
              "    <tr>\n",
              "      <th>2</th>\n",
              "      <td>13.16</td>\n",
              "      <td>2.36</td>\n",
              "      <td>2.67</td>\n",
              "      <td>18.6</td>\n",
              "      <td>101.0</td>\n",
              "      <td>2.80</td>\n",
              "      <td>3.24</td>\n",
              "      <td>0.30</td>\n",
              "      <td>2.81</td>\n",
              "      <td>5.68</td>\n",
              "      <td>1.03</td>\n",
              "      <td>3.17</td>\n",
              "      <td>1185.0</td>\n",
              "      <td>0</td>\n",
              "    </tr>\n",
              "    <tr>\n",
              "      <th>3</th>\n",
              "      <td>14.37</td>\n",
              "      <td>1.95</td>\n",
              "      <td>2.50</td>\n",
              "      <td>16.8</td>\n",
              "      <td>113.0</td>\n",
              "      <td>3.85</td>\n",
              "      <td>3.49</td>\n",
              "      <td>0.24</td>\n",
              "      <td>2.18</td>\n",
              "      <td>7.80</td>\n",
              "      <td>0.86</td>\n",
              "      <td>3.45</td>\n",
              "      <td>1480.0</td>\n",
              "      <td>0</td>\n",
              "    </tr>\n",
              "    <tr>\n",
              "      <th>4</th>\n",
              "      <td>13.24</td>\n",
              "      <td>2.59</td>\n",
              "      <td>2.87</td>\n",
              "      <td>21.0</td>\n",
              "      <td>118.0</td>\n",
              "      <td>2.80</td>\n",
              "      <td>2.69</td>\n",
              "      <td>0.39</td>\n",
              "      <td>1.82</td>\n",
              "      <td>4.32</td>\n",
              "      <td>1.04</td>\n",
              "      <td>2.93</td>\n",
              "      <td>735.0</td>\n",
              "      <td>0</td>\n",
              "    </tr>\n",
              "  </tbody>\n",
              "</table>\n",
              "</div>\n",
              "      <button class=\"colab-df-convert\" onclick=\"convertToInteractive('df-7514ef4f-fa85-4d44-b0d6-5ac0b7f693f4')\"\n",
              "              title=\"Convert this dataframe to an interactive table.\"\n",
              "              style=\"display:none;\">\n",
              "        \n",
              "  <svg xmlns=\"http://www.w3.org/2000/svg\" height=\"24px\"viewBox=\"0 0 24 24\"\n",
              "       width=\"24px\">\n",
              "    <path d=\"M0 0h24v24H0V0z\" fill=\"none\"/>\n",
              "    <path d=\"M18.56 5.44l.94 2.06.94-2.06 2.06-.94-2.06-.94-.94-2.06-.94 2.06-2.06.94zm-11 1L8.5 8.5l.94-2.06 2.06-.94-2.06-.94L8.5 2.5l-.94 2.06-2.06.94zm10 10l.94 2.06.94-2.06 2.06-.94-2.06-.94-.94-2.06-.94 2.06-2.06.94z\"/><path d=\"M17.41 7.96l-1.37-1.37c-.4-.4-.92-.59-1.43-.59-.52 0-1.04.2-1.43.59L10.3 9.45l-7.72 7.72c-.78.78-.78 2.05 0 2.83L4 21.41c.39.39.9.59 1.41.59.51 0 1.02-.2 1.41-.59l7.78-7.78 2.81-2.81c.8-.78.8-2.07 0-2.86zM5.41 20L4 18.59l7.72-7.72 1.47 1.35L5.41 20z\"/>\n",
              "  </svg>\n",
              "      </button>\n",
              "      \n",
              "  <style>\n",
              "    .colab-df-container {\n",
              "      display:flex;\n",
              "      flex-wrap:wrap;\n",
              "      gap: 12px;\n",
              "    }\n",
              "\n",
              "    .colab-df-convert {\n",
              "      background-color: #E8F0FE;\n",
              "      border: none;\n",
              "      border-radius: 50%;\n",
              "      cursor: pointer;\n",
              "      display: none;\n",
              "      fill: #1967D2;\n",
              "      height: 32px;\n",
              "      padding: 0 0 0 0;\n",
              "      width: 32px;\n",
              "    }\n",
              "\n",
              "    .colab-df-convert:hover {\n",
              "      background-color: #E2EBFA;\n",
              "      box-shadow: 0px 1px 2px rgba(60, 64, 67, 0.3), 0px 1px 3px 1px rgba(60, 64, 67, 0.15);\n",
              "      fill: #174EA6;\n",
              "    }\n",
              "\n",
              "    [theme=dark] .colab-df-convert {\n",
              "      background-color: #3B4455;\n",
              "      fill: #D2E3FC;\n",
              "    }\n",
              "\n",
              "    [theme=dark] .colab-df-convert:hover {\n",
              "      background-color: #434B5C;\n",
              "      box-shadow: 0px 1px 3px 1px rgba(0, 0, 0, 0.15);\n",
              "      filter: drop-shadow(0px 1px 2px rgba(0, 0, 0, 0.3));\n",
              "      fill: #FFFFFF;\n",
              "    }\n",
              "  </style>\n",
              "\n",
              "      <script>\n",
              "        const buttonEl =\n",
              "          document.querySelector('#df-7514ef4f-fa85-4d44-b0d6-5ac0b7f693f4 button.colab-df-convert');\n",
              "        buttonEl.style.display =\n",
              "          google.colab.kernel.accessAllowed ? 'block' : 'none';\n",
              "\n",
              "        async function convertToInteractive(key) {\n",
              "          const element = document.querySelector('#df-7514ef4f-fa85-4d44-b0d6-5ac0b7f693f4');\n",
              "          const dataTable =\n",
              "            await google.colab.kernel.invokeFunction('convertToInteractive',\n",
              "                                                     [key], {});\n",
              "          if (!dataTable) return;\n",
              "\n",
              "          const docLinkHtml = 'Like what you see? Visit the ' +\n",
              "            '<a target=\"_blank\" href=https://colab.research.google.com/notebooks/data_table.ipynb>data table notebook</a>'\n",
              "            + ' to learn more about interactive tables.';\n",
              "          element.innerHTML = '';\n",
              "          dataTable['output_type'] = 'display_data';\n",
              "          await google.colab.output.renderOutput(dataTable, element);\n",
              "          const docLink = document.createElement('div');\n",
              "          docLink.innerHTML = docLinkHtml;\n",
              "          element.appendChild(docLink);\n",
              "        }\n",
              "      </script>\n",
              "    </div>\n",
              "  </div>\n",
              "  "
            ]
          },
          "metadata": {},
          "execution_count": 1
        }
      ]
    },
    {
      "cell_type": "markdown",
      "metadata": {
        "id": "l8opVcVeuFLn"
      },
      "source": [
        "Este conjunto de datos se compone de 13 características numéricas y hay 3 clases diferentes de vino.\n",
        "\n",
        "Ahora realice la división entrenamiento/prueba y normalice los datos utilizando [`StandardScaler`](https://scikit-learn.org/stable/modules/generated/sklearn.preprocessing.StandardScaler.html):"
      ]
    },
    {
      "cell_type": "code",
      "metadata": {
        "id": "Aaszrn9CEsIf"
      },
      "source": [
        "from sklearn.model_selection import train_test_split\n",
        "from sklearn.preprocessing import StandardScaler\n",
        "\n",
        "# Train / Test split\n",
        "X_train, X_test, y_train, y_test = train_test_split(data.data, data.target, random_state=42)\n",
        "\n",
        "# Instantiate StandardScaler\n",
        "scaler = StandardScaler()\n",
        "\n",
        "# Fit it to the train data\n",
        "scaler.fit(X_train)\n",
        "\n",
        "# Use it to transform the train and test data\n",
        "X_train = scaler.transform(X_train)\n",
        "\n",
        "# Notice that the scaler is trained on the train data to avoid data leakage from the test set\n",
        "X_test = scaler.transform(X_test)"
      ],
      "execution_count": 2,
      "outputs": []
    },
    {
      "cell_type": "markdown",
      "metadata": {
        "id": "BVmae4rtvGiA"
      },
      "source": [
        "## Train the classifier\n",
        "\n",
        "Ahora ajustará un [clasificador Random Forest](https://scikit-learn.org/stable/modules/generated/sklearn.ensemble.RandomForestClassifier.html) con 10 estimadores y calculará la precisión media obtenida:"
      ]
    },
    {
      "cell_type": "code",
      "metadata": {
        "id": "NK5Dxa70Ir3N",
        "colab": {
          "base_uri": "https://localhost:8080/"
        },
        "outputId": "11ee491c-aea0-4162-ac43-10a00be7e160"
      },
      "source": [
        "from sklearn.ensemble import RandomForestClassifier\n",
        "\n",
        "# Fit the classifier\n",
        "rf_clf = RandomForestClassifier(n_estimators=10, random_state=42).fit(X_train, y_train)\n",
        "\n",
        "# Print the mean accuracy achieved by the classifier on the test set\n",
        "rf_clf.score(X_test, y_test)"
      ],
      "execution_count": 4,
      "outputs": [
        {
          "output_type": "execute_result",
          "data": {
            "text/plain": [
              "0.9111111111111111"
            ]
          },
          "metadata": {},
          "execution_count": 4
        }
      ]
    },
    {
      "cell_type": "markdown",
      "metadata": {
        "id": "-exiHBeJwVGh"
      },
      "source": [
        "Este modelo alcanzó una precisión media del 91%. Bastante bueno para un modelo sin ajuste fino."
      ]
    },
    {
      "cell_type": "markdown",
      "metadata": {
        "id": "O_RPyB9Owfms"
      },
      "source": [
        "# Permutation Feature Importance\n",
        "\n",
        "Para llevar a cabo la técnica de inspección del modelo conocida como Permutation Feature Importance se utilizará la función integrada de scikit-learn [`permutation_importance`](https://scikit-learn.org/stable/modules/generated/sklearn.inspection.permutation_importance.html#sklearn.inspection.permutation_importance).\n",
        "\n",
        "Crearemos una función que, dado un clasificador, características y etiquetas, calcule la importancia de cada característica:"
      ]
    },
    {
      "cell_type": "code",
      "metadata": {
        "id": "nAvDl_2rJsTA"
      },
      "source": [
        "from sklearn.inspection import permutation_importance\n",
        "\n",
        "def feature_importance(clf, X, y, top_limit=None):\n",
        "\n",
        "  # Recuperar el objeto Bunch después de 50 repeticiones\n",
        "  # n_repeats es el número de veces que se permutó cada característica para calcular la puntuación final\n",
        "  bunch = permutation_importance(clf, X, y,\n",
        "                                 n_repeats=50, random_state=42)\n",
        "\n",
        "  #Importancia media de las características\n",
        "  imp_means = bunch.importances_mean\n",
        "\n",
        "  #Lista que contiene el índice de cada característica en orden descendente de importancia\n",
        "  ordered_imp_means_args = np.argsort(imp_means)[::-1]\n",
        "\n",
        "  # Si no hay límite imprimir todas las características\n",
        "  if top_limit is None:\n",
        "    top_limit = len(ordered_imp_means_args)\n",
        "\n",
        "  # Imprimir información relevante\n",
        "  for i, _ in zip(ordered_imp_means_args, range(top_limit)):\n",
        "    name = data.feature_names[i]\n",
        "    imp_score = imp_means[i]\n",
        "    imp_std = bunch.importances_std[i]\n",
        "    print(f\"Feature {name} with index {i} has an average importance score of {imp_score:.3f} +/- {imp_std:.3f}\\n\")"
      ],
      "execution_count": 5,
      "outputs": []
    },
    {
      "cell_type": "markdown",
      "metadata": {
        "id": "dCHWbK_3yeJ_"
      },
      "source": [
        "La puntuación de importancia se calcula de forma que los valores más altos representan un mejor poder predictivo. Para saber exactamente cómo se calcula, consulta este [enlace](https://scikit-learn.org/stable/modules/permutation_importance.html#outline-of-the-permutation-importance-algorithm).\n",
        "\n",
        "Ahora utilice la función `feature_importance` en el clasificador Random Forest y el conjunto de entrenamiento:"
      ]
    },
    {
      "cell_type": "code",
      "metadata": {
        "id": "wuB6EyTuHT7S",
        "colab": {
          "base_uri": "https://localhost:8080/"
        },
        "outputId": "a152489c-35a5-430f-9ea6-dfac6ec7920b"
      },
      "source": [
        "feature_importance(rf_clf, X_train, y_train)"
      ],
      "execution_count": 6,
      "outputs": [
        {
          "output_type": "stream",
          "name": "stdout",
          "text": [
            "Feature flavanoids with index 6 has an average importance score of 0.227 +/- 0.025\n",
            "\n",
            "Feature proline with index 12 has an average importance score of 0.142 +/- 0.019\n",
            "\n",
            "Feature color_intensity with index 9 has an average importance score of 0.112 +/- 0.023\n",
            "\n",
            "Feature od280/od315_of_diluted_wines with index 11 has an average importance score of 0.007 +/- 0.005\n",
            "\n",
            "Feature total_phenols with index 5 has an average importance score of 0.003 +/- 0.004\n",
            "\n",
            "Feature malic_acid with index 1 has an average importance score of 0.002 +/- 0.004\n",
            "\n",
            "Feature proanthocyanins with index 8 has an average importance score of 0.002 +/- 0.003\n",
            "\n",
            "Feature hue with index 10 has an average importance score of 0.002 +/- 0.003\n",
            "\n",
            "Feature nonflavanoid_phenols with index 7 has an average importance score of 0.000 +/- 0.000\n",
            "\n",
            "Feature magnesium with index 4 has an average importance score of 0.000 +/- 0.000\n",
            "\n",
            "Feature alcalinity_of_ash with index 3 has an average importance score of 0.000 +/- 0.000\n",
            "\n",
            "Feature ash with index 2 has an average importance score of 0.000 +/- 0.000\n",
            "\n",
            "Feature alcohol with index 0 has an average importance score of 0.000 +/- 0.000\n",
            "\n"
          ]
        }
      ]
    },
    {
      "cell_type": "markdown",
      "metadata": {
        "id": "CiYP--tl5623"
      },
      "source": [
        "Parece que muchas de las características tienen una puntuación de importancia bastante baja. Esto indica que el poder predictivo de este conjunto de datos se concentra en unas pocas características.\n",
        "\n",
        "Sin embargo, es importante tener en cuenta que este proceso se realizó para el conjunto de entrenamiento, por lo que la importancia de esta característica NO tiene en cuenta si la característica podría ayudar con el poder de generalización del modelo.\n",
        "\n",
        "Para comprobarlo, repita el proceso para el conjunto de prueba:"
      ]
    },
    {
      "cell_type": "code",
      "metadata": {
        "id": "iDjYLTDBzfXT",
        "colab": {
          "base_uri": "https://localhost:8080/"
        },
        "outputId": "0c1e9126-9dcb-4b30-9774-5e2686da97df"
      },
      "source": [
        "feature_importance(rf_clf, X_test, y_test)"
      ],
      "execution_count": 7,
      "outputs": [
        {
          "output_type": "stream",
          "name": "stdout",
          "text": [
            "Feature flavanoids with index 6 has an average importance score of 0.202 +/- 0.047\n",
            "\n",
            "Feature proline with index 12 has an average importance score of 0.143 +/- 0.042\n",
            "\n",
            "Feature color_intensity with index 9 has an average importance score of 0.112 +/- 0.043\n",
            "\n",
            "Feature alcohol with index 0 has an average importance score of 0.024 +/- 0.017\n",
            "\n",
            "Feature magnesium with index 4 has an average importance score of 0.021 +/- 0.015\n",
            "\n",
            "Feature od280/od315_of_diluted_wines with index 11 has an average importance score of 0.015 +/- 0.018\n",
            "\n",
            "Feature hue with index 10 has an average importance score of 0.013 +/- 0.018\n",
            "\n",
            "Feature total_phenols with index 5 has an average importance score of 0.002 +/- 0.016\n",
            "\n",
            "Feature nonflavanoid_phenols with index 7 has an average importance score of 0.000 +/- 0.000\n",
            "\n",
            "Feature alcalinity_of_ash with index 3 has an average importance score of 0.000 +/- 0.000\n",
            "\n",
            "Feature malic_acid with index 1 has an average importance score of -0.002 +/- 0.017\n",
            "\n",
            "Feature ash with index 2 has an average importance score of -0.003 +/- 0.008\n",
            "\n",
            "Feature proanthocyanins with index 8 has an average importance score of -0.021 +/- 0.020\n",
            "\n"
          ]
        }
      ]
    },
    {
      "cell_type": "markdown",
      "metadata": {
        "id": "aclWL_oJ7h3V"
      },
      "source": [
        "Observe que las características más importantes son las mismas en ambos conjuntos. Sin embargo, características como **alcohol**, que no se consideró importante para el conjunto de entrenamiento, es mucho más importante cuando se utiliza el conjunto de pruebas. Esto indica que esta característica contribuirá al poder de generalización del modelo.\n",
        "\n",
        "**Si una característica se considera importante en el conjunto de entrenamiento, pero no en el de pruebas, es probable que el modelo se ajuste en exceso."
      ]
    },
    {
      "cell_type": "markdown",
      "metadata": {
        "id": "DpHC8q3y8byl"
      },
      "source": [
        "## Re-train the model with the most important features\n",
        "\n",
        "Ahora volverá a entrenar el clasificador Random Forest sólo con las 3 características más importantes. \n",
        "\n",
        "En este caso son las mismas para ambos conjuntos:"
      ]
    },
    {
      "cell_type": "code",
      "metadata": {
        "id": "daZkt0PE1oxc",
        "colab": {
          "base_uri": "https://localhost:8080/"
        },
        "outputId": "c84267cf-5ed1-49e7-b7ac-5994b76198c9"
      },
      "source": [
        "print(\"On TRAIN split:\\n\")\n",
        "feature_importance(rf_clf, X_train, y_train, top_limit=3)\n",
        "\n",
        "print(\"\\nOn TEST split:\\n\")\n",
        "feature_importance(rf_clf, X_test, y_test, top_limit=3)"
      ],
      "execution_count": 8,
      "outputs": [
        {
          "output_type": "stream",
          "name": "stdout",
          "text": [
            "On TRAIN split:\n",
            "\n",
            "Feature flavanoids with index 6 has an average importance score of 0.227 +/- 0.025\n",
            "\n",
            "Feature proline with index 12 has an average importance score of 0.142 +/- 0.019\n",
            "\n",
            "Feature color_intensity with index 9 has an average importance score of 0.112 +/- 0.023\n",
            "\n",
            "\n",
            "On TEST split:\n",
            "\n",
            "Feature flavanoids with index 6 has an average importance score of 0.202 +/- 0.047\n",
            "\n",
            "Feature proline with index 12 has an average importance score of 0.143 +/- 0.042\n",
            "\n",
            "Feature color_intensity with index 9 has an average importance score of 0.112 +/- 0.043\n",
            "\n"
          ]
        }
      ]
    },
    {
      "cell_type": "code",
      "metadata": {
        "id": "VOZyil7eqH5-",
        "colab": {
          "base_uri": "https://localhost:8080/"
        },
        "outputId": "21bf33da-0fb7-4676-c7d5-84955ec5bbe6"
      },
      "source": [
        "# Preserve only the top 3 features\n",
        "X_train_top_features = X_train[:,[6, 9, 12]]\n",
        "X_test_top_features = X_test[:,[6, 9, 12]]\n",
        "\n",
        "# Re-train with only these features\n",
        "rf_clf_top = RandomForestClassifier(n_estimators=10, random_state=42).fit(X_train_top_features, y_train)\n",
        "\n",
        "# Compute mean accuracy achieved\n",
        "rf_clf_top.score(X_test_top_features, y_test)"
      ],
      "execution_count": 9,
      "outputs": [
        {
          "output_type": "execute_result",
          "data": {
            "text/plain": [
              "0.9333333333333333"
            ]
          },
          "metadata": {},
          "execution_count": 9
        }
      ]
    },
    {
      "cell_type": "markdown",
      "metadata": {
        "id": "5CeyUCTi8zIj"
      },
      "source": [
        "Observe que al utilizar sólo las 3 características más importantes, el modelo alcanzó una precisión media incluso superior a la del modelo que utilizaba las 13 características. \n",
        "\n",
        "\n",
        "Recuerde que la característica **alcohol** no se consideró importante en la división de entrenamiento, pero usted tenía la hipótesis de que contenía información importante para la generalización del modelo. \n",
        "\n",
        "Añada esta característica y vea cómo funciona el modelo:"
      ]
    },
    {
      "cell_type": "code",
      "metadata": {
        "id": "b72FJLpj9Aly",
        "colab": {
          "base_uri": "https://localhost:8080/"
        },
        "outputId": "b325fd50-c2f0-4e49-f2cf-2f8c4c59425c"
      },
      "source": [
        "# Preserve only the top 3 features\n",
        "X_train_top_features = X_train[:,[0, 6, 9, 12]]\n",
        "X_test_top_features = X_test[:,[0, 6, 9, 12]]\n",
        "\n",
        "# Re-train with only these features\n",
        "rf_clf_top = RandomForestClassifier(n_estimators=10, random_state=42).fit(X_train_top_features, y_train)\n",
        "\n",
        "# Compute mean accuracy achieved\n",
        "rf_clf_top.score(X_test_top_features, y_test)"
      ],
      "execution_count": 10,
      "outputs": [
        {
          "output_type": "execute_result",
          "data": {
            "text/plain": [
              "1.0"
            ]
          },
          "metadata": {},
          "execution_count": 10
        }
      ]
    },
    {
      "cell_type": "markdown",
      "metadata": {
        "id": "L4imw5IU9nGx"
      },
      "source": [
        "¡Wow! Al añadir esta función adicional, se obtiene una precisión media del 100%. ¡Notable! Parece que esta característica proporcionó información importante que ayudó al modelo a generalizar mejor."
      ]
    },
    {
      "cell_type": "markdown",
      "metadata": {
        "id": "pGqKd5c7-Jaw"
      },
      "source": [
        "## Try out other classifiers\n",
        "\n",
        "El proceso de permutación de la importancia de las características también depende del clasificador que se utilice. Dado que los distintos clasificadores siguen reglas de clasificación diferentes, es natural suponer que considerarán importantes o insignificantes características diferentes.\n",
        "\n",
        "Para comprobarlo, pruebe otros clasificadores:"
      ]
    },
    {
      "cell_type": "code",
      "metadata": {
        "id": "Hv6oXNMUrzmR",
        "colab": {
          "base_uri": "https://localhost:8080/"
        },
        "outputId": "a353d9b1-602b-467d-fc0f-512e51c541fc"
      },
      "source": [
        "from sklearn.svm import SVC\n",
        "from sklearn.linear_model import Lasso, Ridge\n",
        "from sklearn.tree import DecisionTreeClassifier\n",
        "\n",
        "# Select 4 new classifiers\n",
        "clfs = {\"Laso\": Lasso(alpha=0.05), \n",
        "        \"Ridge\": Ridge(), \n",
        "        \"Decision Tree\": DecisionTreeClassifier(), \n",
        "        \"Support Vector\": SVC()}\n",
        "\n",
        "\n",
        "# Compute feature importance on the test set given a classifier\n",
        "def fit_compute_importance(clf):\n",
        "  clf.fit(X_train, y_train)\n",
        "  print(f\"📏 Mean accuracy score on the test set: {clf.score(X_test, y_test)*100:.2f}%\\n\")\n",
        "  print(\"🔝 Top 4 features when using the test set:\\n\")\n",
        "  feature_importance(clf, X_test, y_test, top_limit=4)\n",
        "\n",
        "\n",
        "# Print results\n",
        "for name, clf in clfs.items():\n",
        "  print(\"=====\"*20)\n",
        "  print(f\"➡️ {name} classifier\\n\")\n",
        "  fit_compute_importance(clf)"
      ],
      "execution_count": 11,
      "outputs": [
        {
          "output_type": "stream",
          "name": "stdout",
          "text": [
            "====================================================================================================\n",
            "➡️ Laso classifier\n",
            "\n",
            "📏 Mean accuracy score on the test set: 86.80%\n",
            "\n",
            "🔝 Top 4 features when using the test set:\n",
            "\n",
            "Feature flavanoids with index 6 has an average importance score of 0.323 +/- 0.055\n",
            "\n",
            "Feature proline with index 12 has an average importance score of 0.203 +/- 0.035\n",
            "\n",
            "Feature od280/od315_of_diluted_wines with index 11 has an average importance score of 0.146 +/- 0.030\n",
            "\n",
            "Feature alcalinity_of_ash with index 3 has an average importance score of 0.038 +/- 0.014\n",
            "\n",
            "====================================================================================================\n",
            "➡️ Ridge classifier\n",
            "\n",
            "📏 Mean accuracy score on the test set: 88.71%\n",
            "\n",
            "🔝 Top 4 features when using the test set:\n",
            "\n",
            "Feature flavanoids with index 6 has an average importance score of 0.445 +/- 0.071\n",
            "\n",
            "Feature proline with index 12 has an average importance score of 0.210 +/- 0.035\n",
            "\n",
            "Feature color_intensity with index 9 has an average importance score of 0.119 +/- 0.029\n",
            "\n",
            "Feature od280/od315_of_diluted_wines with index 11 has an average importance score of 0.111 +/- 0.026\n",
            "\n",
            "====================================================================================================\n",
            "➡️ Decision Tree classifier\n",
            "\n",
            "📏 Mean accuracy score on the test set: 95.56%\n",
            "\n",
            "🔝 Top 4 features when using the test set:\n",
            "\n",
            "Feature flavanoids with index 6 has an average importance score of 0.297 +/- 0.061\n",
            "\n",
            "Feature proline with index 12 has an average importance score of 0.143 +/- 0.039\n",
            "\n",
            "Feature color_intensity with index 9 has an average importance score of 0.131 +/- 0.037\n",
            "\n",
            "Feature alcohol with index 0 has an average importance score of 0.049 +/- 0.020\n",
            "\n",
            "====================================================================================================\n",
            "➡️ Support Vector classifier\n",
            "\n",
            "📏 Mean accuracy score on the test set: 97.78%\n",
            "\n",
            "🔝 Top 4 features when using the test set:\n",
            "\n",
            "Feature proline with index 12 has an average importance score of 0.069 +/- 0.031\n",
            "\n",
            "Feature flavanoids with index 6 has an average importance score of 0.061 +/- 0.023\n",
            "\n",
            "Feature alcohol with index 0 has an average importance score of 0.044 +/- 0.023\n",
            "\n",
            "Feature ash with index 2 has an average importance score of 0.032 +/- 0.018\n",
            "\n"
          ]
        }
      ]
    },
    {
      "cell_type": "markdown",
      "metadata": {
        "id": "0vLoU0xjDsqg"
      },
      "source": [
        "Parece que los **flavanoides** y la **prolina** son muy importantes en todos los clasificadores. Sin embargo, existe variabilidad de un clasificador a otro en cuanto a las características que se consideran más importantes."
      ]
    },
    {
      "cell_type": "markdown",
      "metadata": {
        "id": "cwRlO14nZ_nY"
      },
      "source": [
        "-----------------------------\n",
        "**Ahora debería tener una comprensión más clara de lo que es la Importancia de las Características de Permutación, por qué es útil y cómo implementar esta técnica utilizando Scikit-learn. \n",
        "\n",
        "**Sigan así.**"
      ]
    },
    {
      "cell_type": "code",
      "source": [],
      "metadata": {
        "id": "UQWEZKt7Bkt_"
      },
      "execution_count": null,
      "outputs": []
    },
    {
      "cell_type": "code",
      "source": [],
      "metadata": {
        "id": "nqeUHFIbBomN"
      },
      "execution_count": null,
      "outputs": []
    }
  ]
}