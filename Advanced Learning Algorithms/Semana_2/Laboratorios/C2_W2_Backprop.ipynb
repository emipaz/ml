{
 "cells": [
  {
   "cell_type": "markdown",
   "metadata": {},
   "source": [
    "# Laboratorio opcional: Retropropagación mediante un gráfico de cálculo\n",
    "Este laboratorio le permitirá comprender mejor un algoritmo clave utilizado por la mayoría de los marcos de aprendizaje automático. El descenso gradiente requiere la derivada del coste con respecto a cada parámetro de la red.  Las redes neuronales pueden tener millones o incluso miles de millones de parámetros. El algoritmo de *propagación hacia atrás* se utiliza para calcular esas derivadas. Los *gráficos de cálculo* se utilizan para simplificar la operación. Profundicemos en esto a continuación.\n"
   ]
  },
  {
   "cell_type": "code",
   "execution_count": 1,
   "metadata": {},
   "outputs": [],
   "source": [
    "from sympy import *\n",
    "import numpy as np\n",
    "import re\n",
    "%matplotlib widget\n",
    "import matplotlib.pyplot as plt\n",
    "from matplotlib.widgets import TextBox\n",
    "from matplotlib.widgets import Button\n",
    "import ipywidgets as widgets\n",
    "from lab_utils_backprop import *"
   ]
  },
  {
   "cell_type": "markdown",
   "metadata": {},
   "source": [
    "## Computation Graph\n",
    "Un gráfico de cálculo simplifica el cálculo de derivadas complejas dividiéndolo en pasos más pequeños. Veamos cómo funciona.\n",
    "\n",
    "Calculemos la derivada de esta expresión ligeramente compleja, $J = (2+3w)^2$. Queremos hallar la derivada de $J$ con respecto a $w$ o $\\frac{\\partial J}{\\partial w}$."
   ]
  },
  {
   "cell_type": "code",
   "execution_count": 2,
   "metadata": {},
   "outputs": [
    {
     "data": {
      "application/vnd.jupyter.widget-view+json": {
       "model_id": "1de892e3fc7d4ba8ab4bdf2c6118d53e",
       "version_major": 2,
       "version_minor": 0
      },
      "text/plain": [
       "Canvas(toolbar=Toolbar(toolitems=[('Home', 'Reset original view', 'home', 'home'), ('Back', 'Back to previous …"
      ]
     },
     "metadata": {},
     "output_type": "display_data"
    },
    {
     "data": {
      "text/plain": [
       "<lab_utils_backprop.plt_network at 0x7f6db005db50>"
      ]
     },
     "execution_count": 2,
     "metadata": {},
     "output_type": "execute_result"
    }
   ],
   "source": [
    "plt.close(\"all\")\n",
    "plt_network(config_nw0, \"./images/C2_W2_BP_network0.PNG\")"
   ]
  },
  {
   "cell_type": "markdown",
   "metadata": {},
   "source": [
    "Arriba puedes ver que hemos dividido la expresión en dos nodos en los que podemos trabajar de forma independiente. Si ya tienes una buena comprensión del proceso de la clase, puedes seguir adelante y rellenar las casillas en el diagrama anterior. Primero debes rellenar las casillas azules que van de izquierda a derecha y luego rellenar las casillas verdes empezando por la derecha y moviéndote hacia la izquierda.\n",
    "Si tienes los valores correctos, los valores se mostrarán como verde o azul. Si el valor es incorrecto, aparecerá en rojo. Ten en cuenta que el gráfico interactivo no es especialmente robusto. Si tiene problemas con la interfaz, ejecute de nuevo la celda anterior para reiniciar.\n",
    "\n",
    "Si no está seguro del proceso, trabajaremos este ejemplo paso a paso a continuación.\n",
    "\n",
    "### Propagación hacia delante   \n",
    "Vamos a calcular los valores en la dirección hacia adelante.\n",
    "\n",
    ">Sólo una nota sobre esta sección. Utiliza variables globales y las reutiliza a medida que avanza el cálculo. Si ejecutas celdas fuera de orden, puedes obtener resultados raros. Si lo haces, vuelve a este punto y ejecútalas en orden."
   ]
  },
  {
   "cell_type": "code",
   "execution_count": 3,
   "metadata": {},
   "outputs": [
    {
     "name": "stdout",
     "output_type": "stream",
     "text": [
      "a = 11, J = 121\n"
     ]
    }
   ],
   "source": [
    "w = 3\n",
    "a = 2+3*w\n",
    "J = a**2\n",
    "print(f\"a = {a}, J = {J}\")"
   ]
  },
  {
   "cell_type": "markdown",
   "metadata": {},
   "source": [
    "Puede rellenar estos valores en las casillas azules de arriba."
   ]
  },
  {
   "cell_type": "markdown",
   "metadata": {
    "tags": []
   },
   "source": [
    "### Backprop\n",
    "<img align=\"left\" src=\"./images/C2_W2_BP_network0_j.PNG\"     style=\" width:100px; padding: 10px 20px; \" > Backprop es el algoritmo que utilizamos para calcular las derivadas. Como se describe en las conferencias, backprop comienza a la derecha y se mueve hacia la izquierda. El primer nodo a considerar es $J = a^2 $ y el primer paso es encontrar $\\frac{\\partial J}{\\partial a}$ \n"
   ]
  },
  {
   "cell_type": "markdown",
   "metadata": {},
   "source": [
    "### $\\frac{\\partial J}{\\partial a}$ \n",
    "#### Arithmetically\n",
    "Hallar $\\frac{\\partial J}{\\partial a}$ hallando cómo cambia $J$ como resultado de un pequeño cambio en $a$. Esto se describe en detalle en el laboratorio opcional de derivadas."
   ]
  },
  {
   "cell_type": "code",
   "execution_count": 4,
   "metadata": {},
   "outputs": [
    {
     "name": "stdout",
     "output_type": "stream",
     "text": [
      "J = 121, J_epsilon = 121.02200099999999, dJ_da ~= k = 22.000999999988835 \n"
     ]
    }
   ],
   "source": [
    "a_epsilon = a + 0.001       # a epsilon\n",
    "J_epsilon = a_epsilon**2    # J_epsilon\n",
    "k = (J_epsilon - J)/0.001   # difference divided by epsilon\n",
    "print(f\"J = {J}, J_epsilon = {J_epsilon}, dJ_da ~= k = {k} \")"
   ]
  },
  {
   "cell_type": "markdown",
   "metadata": {},
   "source": [
    "$\\frac{\\partial J}{\\partial a}$ es 22 que es $2\\times a$. Nuestro resultado no es exactamente 2 veces a$ porque nuestro valor épsilon no es infinitesimalmente pequeño. \n",
    "#### Simbólicamente\n",
    "Ahora, vamos a utilizar SymPy para calcular derivadas simbólicamente como lo hicimos en el laboratorio opcional de derivadas. Antepondremos al nombre de la variable una 's' para indicar que se trata de una variable *simbólica*."
   ]
  },
  {
   "cell_type": "code",
   "execution_count": 5,
   "metadata": {
    "tags": []
   },
   "outputs": [
    {
     "data": {
      "text/latex": [
       "$\\displaystyle a^{2}$"
      ],
      "text/plain": [
       "a**2"
      ]
     },
     "execution_count": 5,
     "metadata": {},
     "output_type": "execute_result"
    }
   ],
   "source": [
    "sw,sJ,sa = symbols('w,J,a')\n",
    "sJ = sa**2\n",
    "sJ"
   ]
  },
  {
   "cell_type": "code",
   "execution_count": 6,
   "metadata": {
    "tags": []
   },
   "outputs": [
    {
     "data": {
      "text/latex": [
       "$\\displaystyle 121$"
      ],
      "text/plain": [
       "121"
      ]
     },
     "execution_count": 6,
     "metadata": {},
     "output_type": "execute_result"
    }
   ],
   "source": [
    "sJ.subs([(sa,a)])"
   ]
  },
  {
   "cell_type": "code",
   "execution_count": 7,
   "metadata": {},
   "outputs": [
    {
     "data": {
      "text/latex": [
       "$\\displaystyle 2 a$"
      ],
      "text/plain": [
       "2*a"
      ]
     },
     "execution_count": 7,
     "metadata": {},
     "output_type": "execute_result"
    }
   ],
   "source": [
    "dJ_da = diff(sJ, sa)\n",
    "dJ_da"
   ]
  },
  {
   "cell_type": "markdown",
   "metadata": {},
   "source": [
    "Entonces, $\\frac{\\partial J}{\\partial a} = 2a$. Cuando $a=11$, $\\frac{\\partial J}{\\partial a} = 22$. Esto coincide con nuestro cálculo aritmético anterior.\n",
    "Si aún no lo has hecho, puedes volver al diagrama anterior y rellenar el valor de $\\frac{\\partial J}{parcial a}$."
   ]
  },
  {
   "cell_type": "markdown",
   "metadata": {
    "tags": []
   },
   "source": [
    "### $\\frac{\\partial J}{\\partial w}$ \n",
    "<img align=\"left\" src=\"./images/C2_W2_BP_network0_a.PNG\"     style=\" width:100px; padding: 10px 20px; \" >  Moviéndonos de derecha a izquierda, el siguiente valor que nos gustaría calcular es $\\frac{\\partial J}{\\partial w}$. Para ello, primero tenemos que calcular $\\frac{parcial a}{parcial w}$ que describe cómo la salida de este nodo, $a$, cambia cuando la entrada $w$ cambia un poco."
   ]
  },
  {
   "cell_type": "markdown",
   "metadata": {},
   "source": [
    "#### Aritméticamente\n",
    "Hallar $\\frac{\\partial a}{\\partial w}$ hallando cómo cambia $a$ como resultado de un pequeño cambio en $w$."
   ]
  },
  {
   "cell_type": "code",
   "execution_count": 8,
   "metadata": {},
   "outputs": [
    {
     "name": "stdout",
     "output_type": "stream",
     "text": [
      "a = 11, a_epsilon = 11.003, da_dw ~= k = 3.0000000000001137 \n"
     ]
    }
   ],
   "source": [
    "w_epsilon = w + 0.001       # a  plus a small value, epsilon\n",
    "a_epsilon = 2 + 3*w_epsilon\n",
    "k = (a_epsilon - a)/0.001   # difference divided by epsilon\n",
    "print(f\"a = {a}, a_epsilon = {a_epsilon}, da_dw ~= k = {k} \")"
   ]
  },
  {
   "cell_type": "markdown",
   "metadata": {},
   "source": [
    "Calculado aritméticamente, $\\frac{\\partial a}{\\partial w} \\approx 3$. Vamos a probarlo con SymPy."
   ]
  },
  {
   "cell_type": "code",
   "execution_count": 9,
   "metadata": {
    "tags": []
   },
   "outputs": [
    {
     "data": {
      "text/latex": [
       "$\\displaystyle 3 w + 2$"
      ],
      "text/plain": [
       "3*w + 2"
      ]
     },
     "execution_count": 9,
     "metadata": {},
     "output_type": "execute_result"
    }
   ],
   "source": [
    "sa = 2 + 3*sw\n",
    "sa"
   ]
  },
  {
   "cell_type": "code",
   "execution_count": 10,
   "metadata": {},
   "outputs": [
    {
     "data": {
      "text/latex": [
       "$\\displaystyle 3$"
      ],
      "text/plain": [
       "3"
      ]
     },
     "execution_count": 10,
     "metadata": {},
     "output_type": "execute_result"
    }
   ],
   "source": [
    "da_dw = diff(sa,sw)\n",
    "da_dw"
   ]
  },
  {
   "cell_type": "markdown",
   "metadata": {},
   "source": [
    ">El siguiente paso es la parte interesante:\n",
    "> - Sabemos que un pequeño cambio en $w$ hará que $a$ cambie 3 veces esa cantidad.\n",
    "> - Sabemos que un pequeño cambio en $a$ hará que $J$ cambie 2 veces $a$ esa cantidad. (a=11 en este ejemplo)    \n",
    " Entonces, juntando todo esto,  \n",
    "> - Sabemos que un pequeño cambio en $w$ hará que $J$ cambie $3 veces 2 veces a$ esa cantidad.\n",
    "> \n",
    "> Estos cambios en cascada se conocen como *la regla de la cadena*.  Se puede escribir así: \n",
    " $$\\frac{\\partial J}{\\partial w} = \\frac{\\partial a}{\\partial w} \\frac {parcial J} {parcial a} $$\n",
    " \n",
    "Merece la pena dedicar algo de tiempo a pensar en esto si no está claro. Este es un punto clave.\n",
    " \n",
    " Intentemos calcularlo:\n",
    " "
   ]
  },
  {
   "cell_type": "code",
   "execution_count": 11,
   "metadata": {},
   "outputs": [
    {
     "data": {
      "text/latex": [
       "$\\displaystyle 6 a$"
      ],
      "text/plain": [
       "6*a"
      ]
     },
     "execution_count": 11,
     "metadata": {},
     "output_type": "execute_result"
    }
   ],
   "source": [
    "dJ_dw = da_dw * dJ_da\n",
    "dJ_dw"
   ]
  },
  {
   "cell_type": "markdown",
   "metadata": {},
   "source": [
    "Y $a$ es 11 en este ejemplo por lo que $\\frac{\\partial J}{\\partial w} = 66$. Podemos comprobar esto aritméticamente:"
   ]
  },
  {
   "cell_type": "code",
   "execution_count": 12,
   "metadata": {},
   "outputs": [
    {
     "name": "stdout",
     "output_type": "stream",
     "text": [
      "J = 121, J_epsilon = 121.06600900000001, dJ_dw ~= k = 66.0090000000082 \n"
     ]
    }
   ],
   "source": [
    "w_epsilon = w + 0.001\n",
    "a_epsilon = 2 + 3*w_epsilon\n",
    "J_epsilon = a_epsilon**2\n",
    "k = (J_epsilon - J)/0.001   # difference divided by epsilon\n",
    "print(f\"J = {J}, J_epsilon = {J_epsilon}, dJ_dw ~= k = {k} \")"
   ]
  },
  {
   "cell_type": "markdown",
   "metadata": {},
   "source": [
    "¡OK! Ahora puede rellenar los valores de $\\frac{\\partial a}{\\partial w}$ y $\\frac{\\partial J}{\\partial w}$ en el diagrama si aún no lo ha hecho. "
   ]
  },
  {
   "cell_type": "markdown",
   "metadata": {},
   "source": [
    "**Otro punto de vista**  \n",
    "Uno podría visualizar estos cambios en cascada de esta manera:  \n",
    "<img align=\"center\" src=\"./images/C2_W2_BP_network0_diff.PNG\" style=\" width:500px; padding: 10px 20px; \" >  \n",
    "Un pequeño cambio en $w$ se multiplica por $\\frac{\\partial a}{\\partial w}$ resultando en un cambio que es 3 veces más grande. Este cambio más grande se multiplica entonces por $\\frac{\\partial J}{\\partial a}$ resultando en un cambio que ahora es $3 \\times 22 = 66$ veces más grande."
   ]
  },
  {
   "cell_type": "markdown",
   "metadata": {},
   "source": [
    "## Gráfico de cálculo de una red neuronal simple\n",
    "A continuación se muestra un gráfico de la red neuronal utilizada en la clase con diferentes valores. Intenta rellenar los valores de las casillas. Tenga en cuenta que el gráfico interactivo no es especialmente robusto. Si tiene problemas con la interfaz, ejecute de nuevo la celda de abajo para reiniciar."
   ]
  },
  {
   "cell_type": "code",
   "execution_count": 13,
   "metadata": {},
   "outputs": [
    {
     "data": {
      "application/vnd.jupyter.widget-view+json": {
       "model_id": "76e910f1317541adac015213b0581b57",
       "version_major": 2,
       "version_minor": 0
      },
      "text/plain": [
       "Canvas(toolbar=Toolbar(toolitems=[('Home', 'Reset original view', 'home', 'home'), ('Back', 'Back to previous …"
      ]
     },
     "metadata": {},
     "output_type": "display_data"
    },
    {
     "data": {
      "text/plain": [
       "<lab_utils_backprop.plt_network at 0x7f6d92062d10>"
      ]
     },
     "execution_count": 13,
     "metadata": {},
     "output_type": "execute_result"
    }
   ],
   "source": [
    "plt.close(\"all\")\n",
    "plt_network(config_nw1, \"./images/C2_W2_BP_network1.PNG\")"
   ]
  },
  {
   "cell_type": "markdown",
   "metadata": {},
   "source": [
    "A continuación, repasaremos en detalle los cálculos necesarios para rellenar el gráfico de cálculo anterior. Empezaremos por la ruta de avance."
   ]
  },
  {
   "cell_type": "markdown",
   "metadata": {},
   "source": [
    "### Propagación hacia delante\n",
    "Los cálculos de la propagación hacia delante son los que has aprendido recientemente para las redes neuronales. Puedes comparar los valores siguientes con los que calculaste para el diagrama anterior."
   ]
  },
  {
   "cell_type": "code",
   "execution_count": 14,
   "metadata": {},
   "outputs": [
    {
     "name": "stdout",
     "output_type": "stream",
     "text": [
      "J=4.5, d=3, a=4, c=-4\n"
     ]
    }
   ],
   "source": [
    "# Inputs and parameters\n",
    "x = 2\n",
    "w = -2\n",
    "b = 8\n",
    "y = 1\n",
    "# calculate per step values   \n",
    "c = w * x\n",
    "a = c + b\n",
    "d = a - y\n",
    "J = d**2/2\n",
    "print(f\"J={J}, d={d}, a={a}, c={c}\")"
   ]
  },
  {
   "cell_type": "markdown",
   "metadata": {},
   "source": [
    "### Backward propagation (Backprop)\n",
    "<img align=\"left\" src=\"./images/C2_W2_BP_network1_jdsq.PNG\"     style=\" width:100px; padding: 10px 20px; \" > Como se describe en las conferencias, backprop comienza a la derecha y se mueve hacia la izquierda. El primer nodo a considerar es $J = \\frac{1}{2}d^2 $ y el primer paso es encontrar $\\frac{\\partial J}{\\partial d}$. \n"
   ]
  },
  {
   "cell_type": "markdown",
   "metadata": {
    "tags": []
   },
   "source": [
    "### $\\frac{\\partial J}{\\partial d}$ "
   ]
  },
  {
   "cell_type": "markdown",
   "metadata": {},
   "source": [
    "#### Aritméticamente\n",
    "Hallar $\\frac{\\partial J}{\\partial d}$ hallando cómo cambia $J$ como resultado de un pequeño cambio en $d$."
   ]
  },
  {
   "cell_type": "code",
   "execution_count": 15,
   "metadata": {},
   "outputs": [
    {
     "name": "stdout",
     "output_type": "stream",
     "text": [
      "J = 4.5, J_epsilon = 4.5030005, dJ_dd ~= k = 3.0004999999997395 \n"
     ]
    }
   ],
   "source": [
    "d_epsilon = d + 0.001\n",
    "J_epsilon = d_epsilon**2/2\n",
    "k = (J_epsilon - J)/0.001   # difference divided by epsilon\n",
    "print(f\"J = {J}, J_epsilon = {J_epsilon}, dJ_dd ~= k = {k} \")"
   ]
  },
  {
   "cell_type": "markdown",
   "metadata": {},
   "source": [
    "$\\frac{\\partial J}{\\partial d}$ es 3, que es el valor de $d$. Nuestro resultado no es exactamente $d$ porque nuestro valor épsilon no es infinitesimalmente pequeño. \n",
    "#### Simbólicamente\n",
    "Ahora, vamos a utilizar SymPy para calcular derivadas simbólicamente, como lo hicimos en el laboratorio opcional de derivadas. Antepondremos al nombre de la variable una 's' para indicar que se trata de una variable *simbólica*."
   ]
  },
  {
   "cell_type": "code",
   "execution_count": 16,
   "metadata": {
    "tags": []
   },
   "outputs": [
    {
     "data": {
      "text/latex": [
       "$\\displaystyle \\frac{d^{2}}{2}$"
      ],
      "text/plain": [
       "d**2/2"
      ]
     },
     "execution_count": 16,
     "metadata": {},
     "output_type": "execute_result"
    }
   ],
   "source": [
    "sx,sw,sb,sy,sJ = symbols('x,w,b,y,J')\n",
    "sa, sc, sd = symbols('a,c,d')\n",
    "sJ = sd**2/2\n",
    "sJ"
   ]
  },
  {
   "cell_type": "code",
   "execution_count": 17,
   "metadata": {
    "tags": []
   },
   "outputs": [
    {
     "data": {
      "text/latex": [
       "$\\displaystyle \\frac{9}{2}$"
      ],
      "text/plain": [
       "9/2"
      ]
     },
     "execution_count": 17,
     "metadata": {},
     "output_type": "execute_result"
    }
   ],
   "source": [
    "sJ.subs([(sd,d)])"
   ]
  },
  {
   "cell_type": "code",
   "execution_count": 18,
   "metadata": {},
   "outputs": [
    {
     "data": {
      "text/latex": [
       "$\\displaystyle d$"
      ],
      "text/plain": [
       "d"
      ]
     },
     "execution_count": 18,
     "metadata": {},
     "output_type": "execute_result"
    }
   ],
   "source": [
    "dJ_dd = diff(sJ, sd)\n",
    "dJ_dd"
   ]
  },
  {
   "cell_type": "markdown",
   "metadata": {},
   "source": [
    "So, $\\frac{\\partial J}{\\partial d}$ = d. When $d=3$, $\\frac{\\partial J}{\\partial d}$ = 3. This matches our arithmetic calculation above.\n",
    "If you have not already done so, you can go back to the diagram above and fill in the value for $\\frac{\\partial J}{\\partial d}$."
   ]
  },
  {
   "cell_type": "markdown",
   "metadata": {},
   "source": [
    "### $\\frac{\\partial J}{\\partial a}$ \n",
    "<img align=\"left\" src=\"./images/C2_W2_BP_network1_d.PNG\"     style=\" width:100px; padding: 10px 20px; \" >  Moviéndonos de derecha a izquierda, el siguiente valor que nos gustaría calcular es $\\frac{\\partial J}{\\partial a}$. Para ello, primero tenemos que calcular $\\frac{\\partial d}{\\partial a}$ que describe cómo la salida de este nodo cambia cuando la entrada $a$ cambia un poco. (Tenga en cuenta, no estamos interesados en cómo cambia la salida cuando $y $ cambia ya que $y $ no es un parámetro)."
   ]
  },
  {
   "cell_type": "markdown",
   "metadata": {},
   "source": [
    "#### Aritméticamente\n",
    "Hallar $\\frac{\\partial d}{\\partial a}$ hallando cómo cambia $d$ como resultado de un pequeño cambio en $a$."
   ]
  },
  {
   "cell_type": "code",
   "execution_count": 19,
   "metadata": {},
   "outputs": [
    {
     "name": "stdout",
     "output_type": "stream",
     "text": [
      "d = 3, d_epsilon = 3.0010000000000003, dd_da ~= k = 1.000000000000334 \n"
     ]
    }
   ],
   "source": [
    "a_epsilon = a + 0.001         # a  plus a small value\n",
    "d_epsilon = a_epsilon - y\n",
    "k = (d_epsilon - d)/0.001   # difference divided by epsilon\n",
    "print(f\"d = {d}, d_epsilon = {d_epsilon}, dd_da ~= k = {k} \")"
   ]
  },
  {
   "cell_type": "markdown",
   "metadata": {},
   "source": [
    "Calculado aritméticamente, $\\frac{\\partial d}{\\partial a} \\approx 1$. Vamos a probarlo con SymPy.\n",
    "#### Simbólicamente"
   ]
  },
  {
   "cell_type": "code",
   "execution_count": 20,
   "metadata": {
    "tags": []
   },
   "outputs": [
    {
     "data": {
      "text/latex": [
       "$\\displaystyle a - y$"
      ],
      "text/plain": [
       "a - y"
      ]
     },
     "execution_count": 20,
     "metadata": {},
     "output_type": "execute_result"
    }
   ],
   "source": [
    "sd = sa - sy\n",
    "sd"
   ]
  },
  {
   "cell_type": "code",
   "execution_count": 21,
   "metadata": {},
   "outputs": [
    {
     "data": {
      "text/latex": [
       "$\\displaystyle 1$"
      ],
      "text/plain": [
       "1"
      ]
     },
     "execution_count": 21,
     "metadata": {},
     "output_type": "execute_result"
    }
   ],
   "source": [
    "dd_da = diff(sd,sa)\n",
    "dd_da"
   ]
  },
  {
   "cell_type": "markdown",
   "metadata": {},
   "source": [
    "Calculado aritméticamente, $\\frac{\\partial d}{\\partial a}$ también es igual a 1.  \n",
    "> El siguiente paso es la parte interesante, que se repite de nuevo en este ejemplo:\n",
    "> - Sabemos que un pequeño cambio en $a$ hará que $d$ cambie en 1 veces esa cantidad.\n",
    "> - Sabemos que un pequeño cambio en $d$ hará que $J$ cambie en $d$ veces esa cantidad. (d=3 en este ejemplo)    \n",
    " Entonces, juntando todo esto,   \n",
    "> - Sabemos que un pequeño cambio en $a$ hará que $J$ cambie en $1\\ veces d$ esa cantidad.\n",
    "> \n",
    "> Esto es de nuevo *la regla de la cadena*.  Se puede escribir así: \n",
    " $$\\frac{\\partial J}{\\partial a} = \\frac{\\partial d}{\\partial a} \\frac{\\partial J}{\\partial d} $$\n",
    " \n",
    " Intentemos calcularlo:\n",
    " "
   ]
  },
  {
   "cell_type": "code",
   "execution_count": 22,
   "metadata": {},
   "outputs": [
    {
     "data": {
      "text/latex": [
       "$\\displaystyle d$"
      ],
      "text/plain": [
       "d"
      ]
     },
     "execution_count": 22,
     "metadata": {},
     "output_type": "execute_result"
    }
   ],
   "source": [
    "dJ_da = dd_da * dJ_dd\n",
    "dJ_da"
   ]
  },
  {
   "cell_type": "markdown",
   "metadata": {},
   "source": [
    "And $d$ is 3 in this example so $\\frac{\\partial J}{\\partial a} = 3$. We can check this arithmetically:"
   ]
  },
  {
   "cell_type": "code",
   "execution_count": 23,
   "metadata": {},
   "outputs": [
    {
     "name": "stdout",
     "output_type": "stream",
     "text": [
      "J = 4.5, J_epsilon = 4.503000500000001, dJ_da ~= k = 3.0005000000006277 \n"
     ]
    }
   ],
   "source": [
    "a_epsilon = a + 0.001\n",
    "d_epsilon = a_epsilon - y\n",
    "J_epsilon = d_epsilon**2/2\n",
    "k = (J_epsilon - J)/0.001   \n",
    "print(f\"J = {J}, J_epsilon = {J_epsilon}, dJ_da ~= k = {k} \")"
   ]
  },
  {
   "cell_type": "markdown",
   "metadata": {},
   "source": [
    "OK, ¡coinciden! Ahora puede rellenar los valores de $\\frac{\\partial d}{\\partial a}$ y $\\frac{\\partial J}{\\partial a}$ en el diagrama si aún no lo ha hecho. "
   ]
  },
  {
   "cell_type": "markdown",
   "metadata": {
    "tags": []
   },
   "source": [
    "> **Los pasos en backprop**   \n",
    "> Ahora que has trabajado a través de varios nodos, podemos escribir el método básico:\\\n",
    "> trabajando de derecha a izquierda, para cada nodo:\n",
    ">- calcula la(s) derivada(s) local(es) del nodo.\n",
    ">- utilizando la regla de la cadena, combínela con la derivada del coste con respecto al nodo de la derecha.   \n",
    "\n",
    "La(s) derivada(s) local(es) es(son) la(s) derivada(s) de la salida del nodo actual con respecto a todas las entradas o parámetros.\n",
    "\n",
    "Continuemos con el trabajo. Seremos un poco menos verboso ahora que usted está familiarizado con el método."
   ]
  },
  {
   "cell_type": "markdown",
   "metadata": {
    "tags": []
   },
   "source": [
    "### $\\frac{\\partial J}{\\partial c}$,  $\\frac{\\partial J}{\\partial b}$\n",
    "<img align=\"left\" src=\"./images/C2_W2_BP_network1_a.PNG\"     style=\" width:100px; padding: 10px 20px; \" >\n",
    "El siguiente nodo tiene dos derivadas de interés. Tenemos que calcular $\\frac{\\partial J}{\\partial c}$ para que podamos propagar a la izquierda. También queremos calcular $ \\frac {\\partial J} {\\partial b}$. Encontrar la derivada del costo con respecto a los parámetros $w $ y $b $ es el objeto de backprop. "
   ]
  },
  {
   "cell_type": "code",
   "execution_count": 24,
   "metadata": {},
   "outputs": [
    {
     "data": {
      "text/latex": [
       "$\\displaystyle b + c$"
      ],
      "text/plain": [
       "b + c"
      ]
     },
     "execution_count": 24,
     "metadata": {},
     "output_type": "execute_result"
    }
   ],
   "source": [
    "# calculate the local derivatives da_dc, da_db\n",
    "sa = sc + sb\n",
    "sa"
   ]
  },
  {
   "cell_type": "code",
   "execution_count": 25,
   "metadata": {},
   "outputs": [
    {
     "name": "stdout",
     "output_type": "stream",
     "text": [
      "1 1\n"
     ]
    }
   ],
   "source": [
    "da_dc = diff(sa,sc)\n",
    "da_db = diff(sa,sb)\n",
    "print(da_dc, da_db)"
   ]
  },
  {
   "cell_type": "code",
   "execution_count": 26,
   "metadata": {},
   "outputs": [
    {
     "name": "stdout",
     "output_type": "stream",
     "text": [
      "dJ_dc = d,  dJ_db = d\n"
     ]
    }
   ],
   "source": [
    "dJ_dc = da_dc * dJ_da\n",
    "dJ_db = da_db * dJ_da\n",
    "print(f\"dJ_dc = {dJ_dc},  dJ_db = {dJ_db}\")"
   ]
  },
  {
   "cell_type": "markdown",
   "metadata": {},
   "source": [
    "And in our example, d = 3"
   ]
  },
  {
   "cell_type": "markdown",
   "metadata": {
    "tags": []
   },
   "source": [
    "###  $\\frac{\\partial J}{\\partial w}$\n",
    "<img align=\"left\" src=\"./images/C2_W2_BP_network1_c.PNG\"     style=\" width:100px; padding: 10px 20px; \" > Tl último nodo de este ejemplo calcula `c`. Aquí, estamos interesados en cómo cambia J con respecto al parámetro w. No vamos a retropropagar a la entrada $x$, por lo que no estamos interesados en $\\frac{\\partial J}{\\partial x}$. Vamos a empezar por calcular $ \\frac {\\partial c} {\\partial w} $."
   ]
  },
  {
   "cell_type": "code",
   "execution_count": 27,
   "metadata": {},
   "outputs": [
    {
     "data": {
      "text/latex": [
       "$\\displaystyle w x$"
      ],
      "text/plain": [
       "w*x"
      ]
     },
     "execution_count": 27,
     "metadata": {},
     "output_type": "execute_result"
    }
   ],
   "source": [
    "# calculate the local derivative\n",
    "sc = sw * sx\n",
    "sc"
   ]
  },
  {
   "cell_type": "code",
   "execution_count": 28,
   "metadata": {},
   "outputs": [
    {
     "data": {
      "text/latex": [
       "$\\displaystyle x$"
      ],
      "text/plain": [
       "x"
      ]
     },
     "execution_count": 28,
     "metadata": {},
     "output_type": "execute_result"
    }
   ],
   "source": [
    "dc_dw = diff(sc,sw)\n",
    "dc_dw"
   ]
  },
  {
   "cell_type": "markdown",
   "metadata": {},
   "source": [
    "Esta derivada es un poco más emocionante que la anterior. Esto variará dependiendo del valor de $x $. En nuestro ejemplo es 2.\n",
    "\n",
    "Combine esto con $\\frac{\\partial J}{\\partial c}$ to find $\\frac{\\partial J}{\\partial w}$."
   ]
  },
  {
   "cell_type": "code",
   "execution_count": 32,
   "metadata": {},
   "outputs": [
    {
     "data": {
      "text/latex": [
       "$\\displaystyle d x$"
      ],
      "text/plain": [
       "d*x"
      ]
     },
     "execution_count": 32,
     "metadata": {},
     "output_type": "execute_result"
    }
   ],
   "source": [
    "dJ_dw = dc_dw * dJ_dc\n",
    "dJ_dw"
   ]
  },
  {
   "cell_type": "code",
   "execution_count": 33,
   "metadata": {},
   "outputs": [
    {
     "name": "stdout",
     "output_type": "stream",
     "text": [
      "dJ_dw = 2*d\n"
     ]
    }
   ],
   "source": [
    "print(f\"dJ_dw = {dJ_dw.subs([(sd,d),(sx,x)])}\")"
   ]
  },
  {
   "cell_type": "markdown",
   "metadata": {},
   "source": [
    "$d=3$, por lo que $\\frac{\\partial J}{\\partial w} = 6$ para nuestro ejemplo.   \n",
    "Vamos a probar esto aritméticamente:"
   ]
  },
  {
   "cell_type": "code",
   "execution_count": 34,
   "metadata": {},
   "outputs": [
    {
     "name": "stdout",
     "output_type": "stream",
     "text": [
      "J = 4.5, J_epsilon = 4.506002, dJ_dw ~= k = 6.001999999999619 \n"
     ]
    }
   ],
   "source": [
    "J_epsilon = ((w+0.001)*x+b - y)**2/2\n",
    "k = (J_epsilon - J)/0.001  \n",
    "print(f\"J = {J}, J_epsilon = {J_epsilon}, dJ_dw ~= k = {k} \")"
   ]
  },
  {
   "cell_type": "markdown",
   "metadata": {},
   "source": [
    "¡Coinciden! Estupendo. Puedes añadir $\\frac{\\partial J}{\\partial w}$ al diagrama anterior y nuestro análisis está completo."
   ]
  },
  {
   "cell_type": "markdown",
   "metadata": {},
   "source": [
    "## ¡Enhorabuena!\n",
    "Has trabajado a través de un ejemplo de propagación hacia atrás utilizando un grafo de computación. Puedes aplicar esto a ejemplos más grandes siguiendo el mismo enfoque nodo por nodo."
   ]
  },
  {
   "cell_type": "code",
   "execution_count": null,
   "metadata": {},
   "outputs": [],
   "source": []
  }
 ],
 "metadata": {
  "kernelspec": {
   "display_name": "Python 3",
   "language": "python",
   "name": "python3"
  },
  "language_info": {
   "codemirror_mode": {
    "name": "ipython",
    "version": 3
   },
   "file_extension": ".py",
   "mimetype": "text/x-python",
   "name": "python",
   "nbconvert_exporter": "python",
   "pygments_lexer": "ipython3",
   "version": "3.7.6"
  }
 },
 "nbformat": 4,
 "nbformat_minor": 5
}
