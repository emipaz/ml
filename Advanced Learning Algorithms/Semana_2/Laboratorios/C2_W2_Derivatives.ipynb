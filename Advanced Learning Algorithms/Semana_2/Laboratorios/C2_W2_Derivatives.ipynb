{
 "cells": [
  {
   "cell_type": "markdown",
   "metadata": {
    "tags": []
   },
   "source": [
    "# Laboratorio opcional - Derivadas\n",
    "Este laboratorio le proporcionará una comprensión más intuitiva de las derivadas. Le mostrará una forma sencilla de calcular derivadas aritméticamente. También le presentará una práctica biblioteca de Python que le permite calcular derivadas simbólicamente."
   ]
  },
  {
   "cell_type": "code",
   "execution_count": 1,
   "metadata": {},
   "outputs": [],
   "source": [
    "from sympy import symbols, diff"
   ]
  },
  {
   "cell_type": "markdown",
   "metadata": {},
   "source": [
    "## Informal definition of derivatives"
   ]
  },
  {
   "cell_type": "markdown",
   "metadata": {},
   "source": [
    "La definición formal de las derivadas puede resultar un poco desalentadora, con límites y valores que \"van a cero\". En realidad, la idea es mucho más sencilla. \n",
    "\n",
    "La derivada de una función describe cómo cambia la salida de una función cuando se produce un pequeño cambio en una variable de entrada.\n",
    "\n",
    "Utilicemos la función de coste $J(w)$ como ejemplo. El coste $J$ es la salida y $w$ es la variable de entrada.  \n",
    "Vamos a dar a un \"pequeño cambio\" un nombre *epsilon* o $\\epsilon$. Utilizamos estas letras griegas porque es tradicional en matemáticas utilizar *epsilon*($\\epsilon$) o *delta* ($\\Delta$) para representar un valor pequeño. Se puede pensar que representa 0,001 o algún otro valor pequeño.  \n",
    "\n",
    "$$\n",
    "\\begin{equation}\n",
    "\\text{Si } w \\uparrow \\epsilon \\text{ causa }J(w) \\uparrow \\text{por }k \\times \\epsilon \\text{ entonces}  \\\\\n",
    "\\frac{\\partial J(w)}{\\partial w} = k \\tag{1}\n",
    "\\end{equation}\n",
    "$$\n",
    "\n",
    "Esto sólo dice que si cambias la entrada a la función $J(w)$ un poco y la salida cambia $k$ veces ese poco, entonces la derivada de $J(w)$ es igual a $k$.\n",
    "\n",
    "Vamos a probar esto.  Veamos la derivada de la función $J(w) = w^2$ en el punto $w=3$ y $\\epsilon = 0.001$."
   ]
  },
  {
   "cell_type": "code",
   "execution_count": 2,
   "metadata": {},
   "outputs": [
    {
     "name": "stdout",
     "output_type": "stream",
     "text": [
      "J = 9, J_epsilon = 9.006001, dJ_dw ~= k = 6.001000 \n"
     ]
    }
   ],
   "source": [
    "J = (3)**2\n",
    "J_epsilon = (3 + 0.001)**2\n",
    "k = (J_epsilon - J)/0.001    # difference divided by epsilon\n",
    "print(f\"J = {J}, J_epsilon = {J_epsilon}, dJ_dw ~= k = {k:0.6f} \")"
   ]
  },
  {
   "cell_type": "markdown",
   "metadata": {},
   "source": [
    "Hemos aumentado un poco el valor de entrada (0,001), haciendo que la salida cambie de 9 a 9,006001, un aumento de 6 veces el aumento de entrada. Haciendo referencia a (1) más arriba, esto dice que $k=6$, por lo que $\\frac{\\partial J(w)}{\\partial w} \\approx 6$. Si estás familiarizado con el cálculo, ya sabes, escrito simbólicamente,  $\\frac{\\partial J(w)}{\\partial w} = 2 w$. Con $w=3$ esto es 6. Nuestro cálculo anterior no es exactamente 6 porque para ser exactamente correcto $\\epsilon$ tendría que ser [infinitesimalmente pequeño](https://www.dictionary.com/browse/infinitesimally) o muy, muy pequeño. Por eso utilizamos los símbolos $\\approx$ o ~= en lugar de =. Veamos qué pasa si hacemos $\\epsilon$ más pequeño."
   ]
  },
  {
   "cell_type": "code",
   "execution_count": null,
   "metadata": {},
   "outputs": [],
   "source": [
    "J = (3)**2\n",
    "J_epsilon = (3 + 0.000000001)**2\n",
    "k = (J_epsilon - J)/0.000000001\n",
    "print(f\"J = {J}, J_epsilon = {J_epsilon}, dJ_dw ~= k = {k} \")"
   ]
  },
  {
   "cell_type": "markdown",
   "metadata": {},
   "source": [
    "El valor se acerca exactamente a 6 a medida que reducimos el tamaño de $\\epsilon$. Siéntase libre de tratar de reducir el valor aún más."
   ]
  },
  {
   "cell_type": "markdown",
   "metadata": {},
   "source": [
    "## Encontrar derivadas simbólicas\n",
    "En backprop es útil conocer la derivada de funciones simples para cualquier valor de entrada. Dicho de otra manera, nos gustaría saber la derivada \"simbólica\" en lugar de la derivada \"aritmética\". Un ejemplo de una derivada simbólica es, $\\frac{\\partial J(w)}{\\partial w} = 2 w$, la derivada de $J(w) = w^2$ arriba.  Con la derivada simbólica se puede encontrar el valor de la derivada en cualquier valor de entrada $w$.  \n",
    "\n",
    "Si has tomado un curso de cálculo, estás familiarizado con las muchas [reglas de diferenciación](https://en.wikipedia.org/wiki/Differentiation_rules#Power_laws,_polynomials,_quotients,_and_reciprocals) que los matemáticos han desarrollado para resolver una derivada dada una expresión. Pues bien, resulta que este proceso se ha automatizado con programas de diferenciación simbólica. Un ejemplo de ello en python es la librería [SymPy](https://www.sympy.org/en/index.html). Veamos cómo usarla."
   ]
  },
  {
   "cell_type": "markdown",
   "metadata": {},
   "source": [
    "### $J = w^2$\n",
    "Definir las variables python y sus nombres simbólicos."
   ]
  },
  {
   "cell_type": "code",
   "execution_count": 4,
   "metadata": {},
   "outputs": [],
   "source": [
    "J, w = symbols('J, w')"
   ]
  },
  {
   "cell_type": "markdown",
   "metadata": {},
   "source": [
    "Define e imprime la expresión. Nota SymPy produce una cadena [latex](https://en.wikibooks.org/wiki/LaTeX/Mathematics) que genera una ecuación bien legible."
   ]
  },
  {
   "cell_type": "code",
   "execution_count": 5,
   "metadata": {},
   "outputs": [
    {
     "data": {
      "text/latex": [
       "$\\displaystyle w^{2}$"
      ],
      "text/plain": [
       "w**2"
      ]
     },
     "execution_count": 5,
     "metadata": {},
     "output_type": "execute_result"
    }
   ],
   "source": [
    "J=w**2\n",
    "J"
   ]
  },
  {
   "cell_type": "markdown",
   "metadata": {},
   "source": [
    "Utilice `diff` de SymPy para diferenciar la expresión para $J$ con respecto a $w$. Observe que el resultado coincide con nuestro ejemplo anterior."
   ]
  },
  {
   "cell_type": "code",
   "execution_count": 6,
   "metadata": {},
   "outputs": [
    {
     "data": {
      "text/latex": [
       "$\\displaystyle 2 w$"
      ],
      "text/plain": [
       "2*w"
      ]
     },
     "execution_count": 6,
     "metadata": {},
     "output_type": "execute_result"
    }
   ],
   "source": [
    "dJ_dw = diff(J,w)\n",
    "dJ_dw"
   ]
  },
  {
   "cell_type": "markdown",
   "metadata": {},
   "source": [
    "Evaluate the derivative at a few points by 'substituting' numeric values for the symbolic values. In the first example, $w$ is replaced by $2$."
   ]
  },
  {
   "cell_type": "code",
   "execution_count": 7,
   "metadata": {},
   "outputs": [
    {
     "data": {
      "text/latex": [
       "$\\displaystyle 4$"
      ],
      "text/plain": [
       "4"
      ]
     },
     "execution_count": 7,
     "metadata": {},
     "output_type": "execute_result"
    }
   ],
   "source": [
    "dJ_dw.subs([(w,2)])    # derivative at the point w = 2"
   ]
  },
  {
   "cell_type": "code",
   "execution_count": 8,
   "metadata": {
    "scrolled": true
   },
   "outputs": [
    {
     "data": {
      "text/latex": [
       "$\\displaystyle 6$"
      ],
      "text/plain": [
       "6"
      ]
     },
     "execution_count": 8,
     "metadata": {},
     "output_type": "execute_result"
    }
   ],
   "source": [
    "dJ_dw.subs([(w,3)])    # derivative at the point w = 3"
   ]
  },
  {
   "cell_type": "code",
   "execution_count": 9,
   "metadata": {},
   "outputs": [
    {
     "data": {
      "text/latex": [
       "$\\displaystyle -6$"
      ],
      "text/plain": [
       "-6"
      ]
     },
     "execution_count": 9,
     "metadata": {},
     "output_type": "execute_result"
    }
   ],
   "source": [
    "dJ_dw.subs([(w,-3)])    # derivative at the point w = -3"
   ]
  },
  {
   "cell_type": "markdown",
   "metadata": {},
   "source": [
    "## $J = 2w$"
   ]
  },
  {
   "cell_type": "code",
   "execution_count": 10,
   "metadata": {
    "tags": []
   },
   "outputs": [],
   "source": [
    "w, J = symbols('w, J')"
   ]
  },
  {
   "cell_type": "code",
   "execution_count": 11,
   "metadata": {},
   "outputs": [
    {
     "data": {
      "text/latex": [
       "$\\displaystyle 2 w$"
      ],
      "text/plain": [
       "2*w"
      ]
     },
     "execution_count": 11,
     "metadata": {},
     "output_type": "execute_result"
    }
   ],
   "source": [
    "J = 2 * w\n",
    "J"
   ]
  },
  {
   "cell_type": "code",
   "execution_count": 12,
   "metadata": {
    "tags": []
   },
   "outputs": [
    {
     "data": {
      "text/latex": [
       "$\\displaystyle 2$"
      ],
      "text/plain": [
       "2"
      ]
     },
     "execution_count": 12,
     "metadata": {},
     "output_type": "execute_result"
    }
   ],
   "source": [
    "dJ_dw = diff(J,w)\n",
    "dJ_dw"
   ]
  },
  {
   "cell_type": "code",
   "execution_count": 13,
   "metadata": {},
   "outputs": [
    {
     "data": {
      "text/latex": [
       "$\\displaystyle 2$"
      ],
      "text/plain": [
       "2"
      ]
     },
     "execution_count": 13,
     "metadata": {},
     "output_type": "execute_result"
    }
   ],
   "source": [
    "dJ_dw.subs([(w,-3)])    # derivative at the point w = -3"
   ]
  },
  {
   "cell_type": "markdown",
   "metadata": {},
   "source": [
    "Compárese con el cálculo aritmético"
   ]
  },
  {
   "cell_type": "code",
   "execution_count": 14,
   "metadata": {},
   "outputs": [
    {
     "name": "stdout",
     "output_type": "stream",
     "text": [
      "J = 6, J_epsilon = 6.002, dJ_dw ~= k = 1.9999999999997797 \n"
     ]
    }
   ],
   "source": [
    "J = 2*3\n",
    "J_epsilon = 2*(3 + 0.001)\n",
    "k = (J_epsilon - J)/0.001\n",
    "print(f\"J = {J}, J_epsilon = {J_epsilon}, dJ_dw ~= k = {k} \")"
   ]
  },
  {
   "cell_type": "markdown",
   "metadata": {},
   "source": [
    "Para la función $J=2w$, es fácil ver que cualquier cambio en $w$ resultará en 2 veces esa cantidad de cambio en la salida $J$, independientemente del valor inicial de $w$. Nuestros resultados NumPy y aritméticos lo confirman. "
   ]
  },
  {
   "cell_type": "markdown",
   "metadata": {},
   "source": [
    "## $J = w^3$"
   ]
  },
  {
   "cell_type": "code",
   "execution_count": 15,
   "metadata": {},
   "outputs": [],
   "source": [
    "J, w = symbols('J, w')"
   ]
  },
  {
   "cell_type": "code",
   "execution_count": 16,
   "metadata": {},
   "outputs": [
    {
     "data": {
      "text/latex": [
       "$\\displaystyle w^{3}$"
      ],
      "text/plain": [
       "w**3"
      ]
     },
     "execution_count": 16,
     "metadata": {},
     "output_type": "execute_result"
    }
   ],
   "source": [
    "J=w**3\n",
    "J"
   ]
  },
  {
   "cell_type": "code",
   "execution_count": 17,
   "metadata": {},
   "outputs": [
    {
     "data": {
      "text/latex": [
       "$\\displaystyle 3 w^{2}$"
      ],
      "text/plain": [
       "3*w**2"
      ]
     },
     "execution_count": 17,
     "metadata": {},
     "output_type": "execute_result"
    }
   ],
   "source": [
    "dJ_dw = diff(J,w)\n",
    "dJ_dw"
   ]
  },
  {
   "cell_type": "code",
   "execution_count": 26,
   "metadata": {},
   "outputs": [],
   "source": [
    "re=dJ_dw.subs([(w,2)])   # derivative at the point w=2"
   ]
  },
  {
   "cell_type": "code",
   "execution_count": 32,
   "metadata": {},
   "outputs": [
    {
     "data": {
      "text/latex": [
       "$\\displaystyle - \\frac{1}{4}$"
      ],
      "text/plain": [
       "-1/4"
      ]
     },
     "metadata": {},
     "output_type": "display_data"
    },
    {
     "data": {
      "text/plain": [
       "-0.25"
      ]
     },
     "execution_count": 32,
     "metadata": {},
     "output_type": "execute_result"
    }
   ],
   "source": [
    "display(re)\n",
    "float(re)"
   ]
  },
  {
   "cell_type": "markdown",
   "metadata": {},
   "source": [
    "Compárese con el cálculo aritmético"
   ]
  },
  {
   "cell_type": "code",
   "execution_count": 19,
   "metadata": {},
   "outputs": [
    {
     "name": "stdout",
     "output_type": "stream",
     "text": [
      "J = 8, J_epsilon = 8.012006000999998, dJ_dw ~= k = 12.006000999997823 \n"
     ]
    }
   ],
   "source": [
    "J = (2)**3\n",
    "J_epsilon = (2+0.001)**3\n",
    "k = (J_epsilon - J)/0.001\n",
    "print(f\"J = {J}, J_epsilon = {J_epsilon}, dJ_dw ~= k = {k} \")"
   ]
  },
  {
   "cell_type": "markdown",
   "metadata": {},
   "source": [
    "## $J = \\frac{1}{w}$"
   ]
  },
  {
   "cell_type": "code",
   "execution_count": 20,
   "metadata": {},
   "outputs": [],
   "source": [
    "J, w = symbols('J, w')"
   ]
  },
  {
   "cell_type": "code",
   "execution_count": 21,
   "metadata": {},
   "outputs": [
    {
     "data": {
      "text/latex": [
       "$\\displaystyle \\frac{1}{w}$"
      ],
      "text/plain": [
       "1/w"
      ]
     },
     "execution_count": 21,
     "metadata": {},
     "output_type": "execute_result"
    }
   ],
   "source": [
    "J= 1/w\n",
    "J"
   ]
  },
  {
   "cell_type": "code",
   "execution_count": 22,
   "metadata": {},
   "outputs": [
    {
     "data": {
      "text/latex": [
       "$\\displaystyle - \\frac{1}{w^{2}}$"
      ],
      "text/plain": [
       "-1/w**2"
      ]
     },
     "execution_count": 22,
     "metadata": {},
     "output_type": "execute_result"
    }
   ],
   "source": [
    "dJ_dw = diff(J,w)\n",
    "dJ_dw"
   ]
  },
  {
   "cell_type": "code",
   "execution_count": 23,
   "metadata": {},
   "outputs": [
    {
     "data": {
      "text/latex": [
       "$\\displaystyle - \\frac{1}{4}$"
      ],
      "text/plain": [
       "-1/4"
      ]
     },
     "execution_count": 23,
     "metadata": {},
     "output_type": "execute_result"
    }
   ],
   "source": [
    "dJ_dw.subs([(w,2)])"
   ]
  },
  {
   "cell_type": "markdown",
   "metadata": {},
   "source": [
    "Compárese con el cálculo aritmético"
   ]
  },
  {
   "cell_type": "code",
   "execution_count": 24,
   "metadata": {},
   "outputs": [
    {
     "name": "stdout",
     "output_type": "stream",
     "text": [
      "J = 0.5, J_epsilon = 0.49975012493753124, dJ_dw ~= k = -0.2498750624687629 \n"
     ]
    }
   ],
   "source": [
    "J = 1/2\n",
    "J_epsilon = 1/(2+0.001)\n",
    "k = (J_epsilon - J)/0.001\n",
    "print(f\"J = {J}, J_epsilon = {J_epsilon}, dJ_dw ~= k = {k} \")"
   ]
  },
  {
   "cell_type": "markdown",
   "metadata": {},
   "source": [
    "## $J = \\frac{1}{w^2}$"
   ]
  },
  {
   "cell_type": "code",
   "execution_count": 25,
   "metadata": {},
   "outputs": [],
   "source": [
    "J, w = symbols('J, w')"
   ]
  },
  {
   "cell_type": "markdown",
   "metadata": {},
   "source": [
    "Si tienes tiempo, intenta repetir los pasos anteriores sobre la función $J = \\frac{1}{w^2}$ y evalúa en w=4"
   ]
  },
  {
   "cell_type": "code",
   "execution_count": 34,
   "metadata": {},
   "outputs": [
    {
     "data": {
      "text/latex": [
       "$\\displaystyle \\frac{1}{w^{2}}$"
      ],
      "text/plain": [
       "w**(-2)"
      ]
     },
     "execution_count": 34,
     "metadata": {},
     "output_type": "execute_result"
    }
   ],
   "source": [
    "J = 1/ w**2\n",
    "J"
   ]
  },
  {
   "cell_type": "code",
   "execution_count": 35,
   "metadata": {},
   "outputs": [
    {
     "data": {
      "text/latex": [
       "$\\displaystyle - \\frac{2}{w^{3}}$"
      ],
      "text/plain": [
       "-2/w**3"
      ]
     },
     "execution_count": 35,
     "metadata": {},
     "output_type": "execute_result"
    }
   ],
   "source": [
    "dj_dw = diff(J)\n",
    "dj_dw"
   ]
  },
  {
   "cell_type": "code",
   "execution_count": 38,
   "metadata": {},
   "outputs": [
    {
     "data": {
      "text/latex": [
       "$\\displaystyle - \\frac{1}{16}$"
      ],
      "text/plain": [
       "-1/16"
      ]
     },
     "metadata": {},
     "output_type": "display_data"
    },
    {
     "data": {
      "text/plain": [
       "-0.0625"
      ]
     },
     "execution_count": 38,
     "metadata": {},
     "output_type": "execute_result"
    }
   ],
   "source": [
    "dj_dw_4 = dJ_dw.subs([(w,4)])\n",
    "display(dj_dw_4)\n",
    "float(dj_dw_4)"
   ]
  },
  {
   "cell_type": "markdown",
   "metadata": {},
   "source": [
    "Compare this with the arithmetic calculation"
   ]
  },
  {
   "cell_type": "code",
   "execution_count": 37,
   "metadata": {},
   "outputs": [
    {
     "name": "stdout",
     "output_type": "stream",
     "text": [
      "J = 0.0625, J_epsilon = 0.06246876171484496, dJ_dw ~= k = -0.031238285155041345 \n"
     ]
    }
   ],
   "source": [
    "J = 1/4**2\n",
    "J_epsilon = 1/(4+0.001)**2\n",
    "k = (J_epsilon - J)/0.001\n",
    "print(f\"J = {J}, J_epsilon = {J_epsilon}, dJ_dw ~= k = {k} \")"
   ]
  },
  {
   "cell_type": "markdown",
   "metadata": {},
   "source": [
    "<details>\n",
    "  <summary><font size=\"3\" color=\"darkgreen\"><b>Click for hints</b></font></summary>\n",
    "    \n",
    "```python \n",
    "J= 1/w**2\n",
    "dJ_dw = diff(J,w)\n",
    "dJ_dw.subs([(w,4)])\n",
    "```\n",
    "  \n",
    "\n",
    "</details>\n",
    "\n",
    "    \n"
   ]
  },
  {
   "cell_type": "markdown",
   "metadata": {},
   "source": [
    "## Enhorabuena.\n",
    "Si usted ha corrido a través de los ejemplos anteriores, usted entiende una derivada describe el cambio en la salida de una función que es el resultado de un pequeño cambio en una entrada a esa función. También puedes usar *SymPy* en python para encontrar la derivada simbólica de funciones."
   ]
  },
  {
   "cell_type": "code",
   "execution_count": null,
   "metadata": {},
   "outputs": [],
   "source": []
  }
 ],
 "metadata": {
  "kernelspec": {
   "display_name": "Python 3",
   "language": "python",
   "name": "python3"
  },
  "language_info": {
   "codemirror_mode": {
    "name": "ipython",
    "version": 3
   },
   "file_extension": ".py",
   "mimetype": "text/x-python",
   "name": "python",
   "nbconvert_exporter": "python",
   "pygments_lexer": "ipython3",
   "version": "3.7.6"
  }
 },
 "nbformat": 4,
 "nbformat_minor": 5
}
